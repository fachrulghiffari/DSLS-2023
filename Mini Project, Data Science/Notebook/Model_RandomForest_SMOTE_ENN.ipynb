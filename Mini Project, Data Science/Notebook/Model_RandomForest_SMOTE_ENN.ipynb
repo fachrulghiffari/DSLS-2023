{
  "cells": [
    {
      "cell_type": "code",
      "execution_count": 1,
      "metadata": {
        "colab": {
          "base_uri": "https://localhost:8080/"
        },
        "id": "-i5wsElTe21g",
        "outputId": "96698185-68ca-4653-bffb-3d82ec32dea0"
      },
      "outputs": [
        {
          "output_type": "stream",
          "name": "stdout",
          "text": [
            "Looking in indexes: https://pypi.org/simple, https://us-python.pkg.dev/colab-wheels/public/simple/\n",
            "Collecting scikit-optimize\n",
            "  Downloading scikit_optimize-0.9.0-py2.py3-none-any.whl (100 kB)\n",
            "\u001b[2K     \u001b[90m━━━━━━━━━━━━━━━━━━━━━━━━━━━━━━━━━━━━━━━\u001b[0m \u001b[32m100.3/100.3 KB\u001b[0m \u001b[31m2.8 MB/s\u001b[0m eta \u001b[36m0:00:00\u001b[0m\n",
            "\u001b[?25hRequirement already satisfied: scipy>=0.19.1 in /usr/local/lib/python3.8/dist-packages (from scikit-optimize) (1.7.3)\n",
            "Requirement already satisfied: scikit-learn>=0.20.0 in /usr/local/lib/python3.8/dist-packages (from scikit-optimize) (1.0.2)\n",
            "Collecting pyaml>=16.9\n",
            "  Downloading pyaml-21.10.1-py2.py3-none-any.whl (24 kB)\n",
            "Requirement already satisfied: joblib>=0.11 in /usr/local/lib/python3.8/dist-packages (from scikit-optimize) (1.2.0)\n",
            "Requirement already satisfied: numpy>=1.13.3 in /usr/local/lib/python3.8/dist-packages (from scikit-optimize) (1.22.4)\n",
            "Requirement already satisfied: PyYAML in /usr/local/lib/python3.8/dist-packages (from pyaml>=16.9->scikit-optimize) (6.0)\n",
            "Requirement already satisfied: threadpoolctl>=2.0.0 in /usr/local/lib/python3.8/dist-packages (from scikit-learn>=0.20.0->scikit-optimize) (3.1.0)\n",
            "Installing collected packages: pyaml, scikit-optimize\n",
            "Successfully installed pyaml-21.10.1 scikit-optimize-0.9.0\n"
          ]
        }
      ],
      "source": [
        "!pip install scikit-optimize"
      ]
    },
    {
      "cell_type": "code",
      "execution_count": 2,
      "metadata": {
        "id": "PzHSGKDpYYFI"
      },
      "outputs": [],
      "source": [
        "import numpy as np\n",
        "import pandas as pd\n",
        "import pandas as pd\n",
        "import numpy as np\n",
        "from sklearn.ensemble import RandomForestClassifier\n",
        "from skopt import BayesSearchCV\n",
        "from sklearn.model_selection import GridSearchCV\n",
        "from sklearn.metrics import f1_score, recall_score, precision_score, accuracy_score\n",
        "import joblib"
      ]
    },
    {
      "cell_type": "code",
      "source": [
        "np. __version__ "
      ],
      "metadata": {
        "colab": {
          "base_uri": "https://localhost:8080/",
          "height": 35
        },
        "id": "zUgeAYC5B-4T",
        "outputId": "e65d69ab-727d-4946-ca9e-9edb6c448a9e"
      },
      "execution_count": 3,
      "outputs": [
        {
          "output_type": "execute_result",
          "data": {
            "text/plain": [
              "'1.22.4'"
            ],
            "application/vnd.google.colaboratory.intrinsic+json": {
              "type": "string"
            }
          },
          "metadata": {},
          "execution_count": 3
        }
      ]
    },
    {
      "cell_type": "code",
      "execution_count": 4,
      "metadata": {
        "id": "8KCfveL7YaNI"
      },
      "outputs": [],
      "source": [
        "URL_data_sme_minmax_be = 'https://drive.google.com/file/d/1JV61ruhmwiLtUDsG6VdSLI_EdtlNvAuC/view?usp=share'\n",
        "path_data_sme_minmax_be = 'https://drive.google.com/uc?export=download&id='+URL_data_sme_minmax_be.split('/')[-2]\n",
        "data_sme_minmax_be = pd.read_csv(path_data_sme_minmax_be)\n",
        "\n",
        "URL_data_sme_standard_be = 'https://drive.google.com/file/d/1kApVPeAqR4EPAp2Qqe5SGVcv3g13PjGE/view?usp=share'\n",
        "path_data_sme_standard_be = 'https://drive.google.com/uc?export=download&id='+URL_data_sme_standard_be.split('/')[-2]\n",
        "data_sme_standard_be = pd.read_csv(path_data_sme_standard_be)\n",
        "\n",
        "URL_data_test_minmax_be = 'https://drive.google.com/file/d/1xzEL_joTrtUhRnUfu9x_5j7bgZJNlxqD/view?usp=share'\n",
        "path_data_test_minmax_be = 'https://drive.google.com/uc?export=download&id='+URL_data_test_minmax_be.split('/')[-2]\n",
        "data_test_minmax_be = pd.read_csv(path_data_test_minmax_be)\n",
        "\n",
        "URL_data_test_standard_be = 'https://drive.google.com/file/d/19rJwtDQincWlBWw4pTS6r8Cvf11aKDfW/view?usp=share'\n",
        "path_data_test_standard_be = 'https://drive.google.com/uc?export=download&id='+URL_data_test_standard_be.split('/')[-2]\n",
        "data_test_standard_be = pd.read_csv(path_data_test_standard_be)\n"
      ]
    },
    {
      "cell_type": "code",
      "execution_count": 5,
      "metadata": {
        "id": "dPuH-0j1YYFX"
      },
      "outputs": [],
      "source": [
        "x_test_minmax_be = data_test_minmax_be.drop('level', axis=1)\n",
        "y_test_minmax_be = data_test_minmax_be['level']\n",
        "\n",
        "x_test_standard_be = data_test_standard_be.drop('level', axis=1)\n",
        "y_test_standard_be = data_test_standard_be['level']"
      ]
    },
    {
      "cell_type": "code",
      "execution_count": 10,
      "metadata": {
        "id": "qjEMRsBDYYFa"
      },
      "outputs": [],
      "source": [
        "def RandomForest(x_train, y_train, x_test, y_test):\n",
        "    rf = RandomForestClassifier()\n",
        "\n",
        "    # Define the hyperparameter search space\n",
        "    n_estimators = (10, 100)\n",
        "    max_features = ['auto', 'sqrt']\n",
        "    max_depth = (10, 110)\n",
        "    min_samples_split = (2, 10)\n",
        "    min_samples_leaf = (1, 4)\n",
        "    bootstrap = [True, False]\n",
        "\n",
        "    search_space = {\n",
        "        'n_estimators': n_estimators,\n",
        "        'max_features': max_features,\n",
        "        'max_depth': max_depth,\n",
        "        'min_samples_split': min_samples_split,\n",
        "        'min_samples_leaf': min_samples_leaf,\n",
        "        'bootstrap': bootstrap\n",
        "    }\n",
        "\n",
        "    # Define the hyperparameter search method\n",
        "    rf_search = BayesSearchCV(\n",
        "        rf, search_space, n_iter=50, cv=5, n_jobs=-1, random_state=42\n",
        "    )\n",
        "\n",
        "    rf_search.fit(x_train, y_train)\n",
        "    # Select the hyperparameters that result in the best performance\n",
        "    best_params = rf_search.best_params_\n",
        "\n",
        "    print(\"Best parameters: \", best_params)\n",
        "\n",
        "    rf = RandomForestClassifier(**best_params)\n",
        "\n",
        "    rf.fit(x_train, y_train)\n",
        "\n",
        "    # predict data train\n",
        "    y_pred_train_labels = rf.predict(x_train)\n",
        "\n",
        "    # Calculate the F1 score, recall, precision, and accuracy\n",
        "    f1_train = f1_score(y_train, y_pred_train_labels, average='macro')\n",
        "    recall_train = recall_score(y_train, y_pred_train_labels, average='macro')\n",
        "    precision_train = precision_score(y_train, y_pred_train_labels, average='macro')\n",
        "    accuracy_train = accuracy_score(y_train, y_pred_train_labels)\n",
        "    \n",
        "    print(\"\\nEvaluation data training: \")\n",
        "    print(\"Macro-Averaged Recall: \", f1_train)\n",
        "    print(\"Macro-Averaged Precision: \", recall_train)\n",
        "    print(\"Macro-Averaged Precision: \", precision_train)\n",
        "    print(\"Accuracy: \", accuracy_train)\n",
        "\n",
        "    # predict data test\n",
        "    y_pred_labels = rf.predict(x_test)\n",
        "\n",
        "    # Calculate the macro-averaged F1 score, recall, precision, and accuracy\n",
        "    f1 = f1_score(y_test, y_pred_labels, average='macro')\n",
        "    recall = recall_score(y_test, y_pred_labels, average='macro')\n",
        "    precision = precision_score(y_test, y_pred_labels, average='macro')\n",
        "    accuracy = accuracy_score(y_test, y_pred_labels)\n",
        "\n",
        "    print(\"\\nEvaluation data training: \")\n",
        "    print(\"Macro-Averaged F1 Score: \", f1)\n",
        "    print(\"Macro-Averaged Recall: \", recall)\n",
        "    print(\"Macro-Averaged Precision: \", precision)\n",
        "    print(\"Accuracy: \", accuracy)\n",
        "\n",
        "    joblib.dump(rf, 'model_rf1.joblib')"
      ]
    },
    {
      "cell_type": "markdown",
      "source": [
        "## Data dengan kombinasi SMOTE-ENN"
      ],
      "metadata": {
        "id": "ySD-2_4T8Lyv"
      }
    },
    {
      "cell_type": "markdown",
      "source": [
        "Data dengan MinMaxScaler"
      ],
      "metadata": {
        "id": "cWHhksTdso6p"
      }
    },
    {
      "cell_type": "code",
      "source": [
        "x_train_sme_minmax_be = data_sme_minmax_be.drop('level', axis=1)\n",
        "x_train_sme_minmax_be.sample(6)"
      ],
      "metadata": {
        "colab": {
          "base_uri": "https://localhost:8080/",
          "height": 331
        },
        "id": "D3p14Bi7-ZCQ",
        "outputId": "243dc7bf-176c-47ee-d02e-98c4559ffa3b"
      },
      "execution_count": 7,
      "outputs": [
        {
          "output_type": "execute_result",
          "data": {
            "text/plain": [
              "          precip  Libur  ROAD_CLOSED  day_Friday  day_Monday  day_Saturday  \\\n",
              "71880   0.000017    0.0          0.0         0.0         0.0           0.0   \n",
              "122521  0.000245    0.0          0.0         0.0         0.0           0.0   \n",
              "99313   0.004022    1.0          0.0         0.0         0.0           1.0   \n",
              "18314   0.000040    0.0          0.0         0.0         0.0           0.0   \n",
              "79868   0.079130    0.0          0.0         0.0         0.0           1.0   \n",
              "16077   0.060046    0.0          0.0         0.0         0.0           0.0   \n",
              "\n",
              "        day_Sunday  day_Thursday  day_Tuesday  day_Wednesday  ...  street_1  \\\n",
              "71880          0.0           1.0          0.0            0.0  ...       0.0   \n",
              "122521         0.0           0.0          1.0            0.0  ...       0.0   \n",
              "99313          0.0           0.0          0.0            0.0  ...       1.0   \n",
              "18314          0.0           1.0          0.0            0.0  ...       1.0   \n",
              "79868          0.0           0.0          0.0            0.0  ...       0.0   \n",
              "16077          0.0           1.0          0.0            0.0  ...       1.0   \n",
              "\n",
              "        street_2  street_3  street_4  street_5  street_6  street_7  street_8  \\\n",
              "71880   0.000000  0.000000       1.0       0.0       1.0  0.000000       0.0   \n",
              "122521  0.000000  0.194924       0.0       1.0       0.0  0.000000       0.0   \n",
              "99313   0.039598  1.000000       0.0       0.0       0.0  0.039598       0.0   \n",
              "18314   1.000000  1.000000       1.0       0.0       1.0  0.000000       0.0   \n",
              "79868   0.000000  1.000000       0.0       0.0       1.0  1.000000       1.0   \n",
              "16077   0.000000  1.000000       0.0       0.0       0.0  1.000000       1.0   \n",
              "\n",
              "        street_9  street_10  \n",
              "71880        1.0   0.000000  \n",
              "122521       0.0   0.805076  \n",
              "99313        1.0   0.000000  \n",
              "18314        0.0   0.000000  \n",
              "79868        1.0   1.000000  \n",
              "16077        0.0   0.000000  \n",
              "\n",
              "[6 rows x 21 columns]"
            ],
            "text/html": [
              "\n",
              "  <div id=\"df-2c784f02-09c8-4e39-a8e0-0d84e57597d4\">\n",
              "    <div class=\"colab-df-container\">\n",
              "      <div>\n",
              "<style scoped>\n",
              "    .dataframe tbody tr th:only-of-type {\n",
              "        vertical-align: middle;\n",
              "    }\n",
              "\n",
              "    .dataframe tbody tr th {\n",
              "        vertical-align: top;\n",
              "    }\n",
              "\n",
              "    .dataframe thead th {\n",
              "        text-align: right;\n",
              "    }\n",
              "</style>\n",
              "<table border=\"1\" class=\"dataframe\">\n",
              "  <thead>\n",
              "    <tr style=\"text-align: right;\">\n",
              "      <th></th>\n",
              "      <th>precip</th>\n",
              "      <th>Libur</th>\n",
              "      <th>ROAD_CLOSED</th>\n",
              "      <th>day_Friday</th>\n",
              "      <th>day_Monday</th>\n",
              "      <th>day_Saturday</th>\n",
              "      <th>day_Sunday</th>\n",
              "      <th>day_Thursday</th>\n",
              "      <th>day_Tuesday</th>\n",
              "      <th>day_Wednesday</th>\n",
              "      <th>...</th>\n",
              "      <th>street_1</th>\n",
              "      <th>street_2</th>\n",
              "      <th>street_3</th>\n",
              "      <th>street_4</th>\n",
              "      <th>street_5</th>\n",
              "      <th>street_6</th>\n",
              "      <th>street_7</th>\n",
              "      <th>street_8</th>\n",
              "      <th>street_9</th>\n",
              "      <th>street_10</th>\n",
              "    </tr>\n",
              "  </thead>\n",
              "  <tbody>\n",
              "    <tr>\n",
              "      <th>71880</th>\n",
              "      <td>0.000017</td>\n",
              "      <td>0.0</td>\n",
              "      <td>0.0</td>\n",
              "      <td>0.0</td>\n",
              "      <td>0.0</td>\n",
              "      <td>0.0</td>\n",
              "      <td>0.0</td>\n",
              "      <td>1.0</td>\n",
              "      <td>0.0</td>\n",
              "      <td>0.0</td>\n",
              "      <td>...</td>\n",
              "      <td>0.0</td>\n",
              "      <td>0.000000</td>\n",
              "      <td>0.000000</td>\n",
              "      <td>1.0</td>\n",
              "      <td>0.0</td>\n",
              "      <td>1.0</td>\n",
              "      <td>0.000000</td>\n",
              "      <td>0.0</td>\n",
              "      <td>1.0</td>\n",
              "      <td>0.000000</td>\n",
              "    </tr>\n",
              "    <tr>\n",
              "      <th>122521</th>\n",
              "      <td>0.000245</td>\n",
              "      <td>0.0</td>\n",
              "      <td>0.0</td>\n",
              "      <td>0.0</td>\n",
              "      <td>0.0</td>\n",
              "      <td>0.0</td>\n",
              "      <td>0.0</td>\n",
              "      <td>0.0</td>\n",
              "      <td>1.0</td>\n",
              "      <td>0.0</td>\n",
              "      <td>...</td>\n",
              "      <td>0.0</td>\n",
              "      <td>0.000000</td>\n",
              "      <td>0.194924</td>\n",
              "      <td>0.0</td>\n",
              "      <td>1.0</td>\n",
              "      <td>0.0</td>\n",
              "      <td>0.000000</td>\n",
              "      <td>0.0</td>\n",
              "      <td>0.0</td>\n",
              "      <td>0.805076</td>\n",
              "    </tr>\n",
              "    <tr>\n",
              "      <th>99313</th>\n",
              "      <td>0.004022</td>\n",
              "      <td>1.0</td>\n",
              "      <td>0.0</td>\n",
              "      <td>0.0</td>\n",
              "      <td>0.0</td>\n",
              "      <td>1.0</td>\n",
              "      <td>0.0</td>\n",
              "      <td>0.0</td>\n",
              "      <td>0.0</td>\n",
              "      <td>0.0</td>\n",
              "      <td>...</td>\n",
              "      <td>1.0</td>\n",
              "      <td>0.039598</td>\n",
              "      <td>1.000000</td>\n",
              "      <td>0.0</td>\n",
              "      <td>0.0</td>\n",
              "      <td>0.0</td>\n",
              "      <td>0.039598</td>\n",
              "      <td>0.0</td>\n",
              "      <td>1.0</td>\n",
              "      <td>0.000000</td>\n",
              "    </tr>\n",
              "    <tr>\n",
              "      <th>18314</th>\n",
              "      <td>0.000040</td>\n",
              "      <td>0.0</td>\n",
              "      <td>0.0</td>\n",
              "      <td>0.0</td>\n",
              "      <td>0.0</td>\n",
              "      <td>0.0</td>\n",
              "      <td>0.0</td>\n",
              "      <td>1.0</td>\n",
              "      <td>0.0</td>\n",
              "      <td>0.0</td>\n",
              "      <td>...</td>\n",
              "      <td>1.0</td>\n",
              "      <td>1.000000</td>\n",
              "      <td>1.000000</td>\n",
              "      <td>1.0</td>\n",
              "      <td>0.0</td>\n",
              "      <td>1.0</td>\n",
              "      <td>0.000000</td>\n",
              "      <td>0.0</td>\n",
              "      <td>0.0</td>\n",
              "      <td>0.000000</td>\n",
              "    </tr>\n",
              "    <tr>\n",
              "      <th>79868</th>\n",
              "      <td>0.079130</td>\n",
              "      <td>0.0</td>\n",
              "      <td>0.0</td>\n",
              "      <td>0.0</td>\n",
              "      <td>0.0</td>\n",
              "      <td>1.0</td>\n",
              "      <td>0.0</td>\n",
              "      <td>0.0</td>\n",
              "      <td>0.0</td>\n",
              "      <td>0.0</td>\n",
              "      <td>...</td>\n",
              "      <td>0.0</td>\n",
              "      <td>0.000000</td>\n",
              "      <td>1.000000</td>\n",
              "      <td>0.0</td>\n",
              "      <td>0.0</td>\n",
              "      <td>1.0</td>\n",
              "      <td>1.000000</td>\n",
              "      <td>1.0</td>\n",
              "      <td>1.0</td>\n",
              "      <td>1.000000</td>\n",
              "    </tr>\n",
              "    <tr>\n",
              "      <th>16077</th>\n",
              "      <td>0.060046</td>\n",
              "      <td>0.0</td>\n",
              "      <td>0.0</td>\n",
              "      <td>0.0</td>\n",
              "      <td>0.0</td>\n",
              "      <td>0.0</td>\n",
              "      <td>0.0</td>\n",
              "      <td>1.0</td>\n",
              "      <td>0.0</td>\n",
              "      <td>0.0</td>\n",
              "      <td>...</td>\n",
              "      <td>1.0</td>\n",
              "      <td>0.000000</td>\n",
              "      <td>1.000000</td>\n",
              "      <td>0.0</td>\n",
              "      <td>0.0</td>\n",
              "      <td>0.0</td>\n",
              "      <td>1.000000</td>\n",
              "      <td>1.0</td>\n",
              "      <td>0.0</td>\n",
              "      <td>0.000000</td>\n",
              "    </tr>\n",
              "  </tbody>\n",
              "</table>\n",
              "<p>6 rows × 21 columns</p>\n",
              "</div>\n",
              "      <button class=\"colab-df-convert\" onclick=\"convertToInteractive('df-2c784f02-09c8-4e39-a8e0-0d84e57597d4')\"\n",
              "              title=\"Convert this dataframe to an interactive table.\"\n",
              "              style=\"display:none;\">\n",
              "        \n",
              "  <svg xmlns=\"http://www.w3.org/2000/svg\" height=\"24px\"viewBox=\"0 0 24 24\"\n",
              "       width=\"24px\">\n",
              "    <path d=\"M0 0h24v24H0V0z\" fill=\"none\"/>\n",
              "    <path d=\"M18.56 5.44l.94 2.06.94-2.06 2.06-.94-2.06-.94-.94-2.06-.94 2.06-2.06.94zm-11 1L8.5 8.5l.94-2.06 2.06-.94-2.06-.94L8.5 2.5l-.94 2.06-2.06.94zm10 10l.94 2.06.94-2.06 2.06-.94-2.06-.94-.94-2.06-.94 2.06-2.06.94z\"/><path d=\"M17.41 7.96l-1.37-1.37c-.4-.4-.92-.59-1.43-.59-.52 0-1.04.2-1.43.59L10.3 9.45l-7.72 7.72c-.78.78-.78 2.05 0 2.83L4 21.41c.39.39.9.59 1.41.59.51 0 1.02-.2 1.41-.59l7.78-7.78 2.81-2.81c.8-.78.8-2.07 0-2.86zM5.41 20L4 18.59l7.72-7.72 1.47 1.35L5.41 20z\"/>\n",
              "  </svg>\n",
              "      </button>\n",
              "      \n",
              "  <style>\n",
              "    .colab-df-container {\n",
              "      display:flex;\n",
              "      flex-wrap:wrap;\n",
              "      gap: 12px;\n",
              "    }\n",
              "\n",
              "    .colab-df-convert {\n",
              "      background-color: #E8F0FE;\n",
              "      border: none;\n",
              "      border-radius: 50%;\n",
              "      cursor: pointer;\n",
              "      display: none;\n",
              "      fill: #1967D2;\n",
              "      height: 32px;\n",
              "      padding: 0 0 0 0;\n",
              "      width: 32px;\n",
              "    }\n",
              "\n",
              "    .colab-df-convert:hover {\n",
              "      background-color: #E2EBFA;\n",
              "      box-shadow: 0px 1px 2px rgba(60, 64, 67, 0.3), 0px 1px 3px 1px rgba(60, 64, 67, 0.15);\n",
              "      fill: #174EA6;\n",
              "    }\n",
              "\n",
              "    [theme=dark] .colab-df-convert {\n",
              "      background-color: #3B4455;\n",
              "      fill: #D2E3FC;\n",
              "    }\n",
              "\n",
              "    [theme=dark] .colab-df-convert:hover {\n",
              "      background-color: #434B5C;\n",
              "      box-shadow: 0px 1px 3px 1px rgba(0, 0, 0, 0.15);\n",
              "      filter: drop-shadow(0px 1px 2px rgba(0, 0, 0, 0.3));\n",
              "      fill: #FFFFFF;\n",
              "    }\n",
              "  </style>\n",
              "\n",
              "      <script>\n",
              "        const buttonEl =\n",
              "          document.querySelector('#df-2c784f02-09c8-4e39-a8e0-0d84e57597d4 button.colab-df-convert');\n",
              "        buttonEl.style.display =\n",
              "          google.colab.kernel.accessAllowed ? 'block' : 'none';\n",
              "\n",
              "        async function convertToInteractive(key) {\n",
              "          const element = document.querySelector('#df-2c784f02-09c8-4e39-a8e0-0d84e57597d4');\n",
              "          const dataTable =\n",
              "            await google.colab.kernel.invokeFunction('convertToInteractive',\n",
              "                                                     [key], {});\n",
              "          if (!dataTable) return;\n",
              "\n",
              "          const docLinkHtml = 'Like what you see? Visit the ' +\n",
              "            '<a target=\"_blank\" href=https://colab.research.google.com/notebooks/data_table.ipynb>data table notebook</a>'\n",
              "            + ' to learn more about interactive tables.';\n",
              "          element.innerHTML = '';\n",
              "          dataTable['output_type'] = 'display_data';\n",
              "          await google.colab.output.renderOutput(dataTable, element);\n",
              "          const docLink = document.createElement('div');\n",
              "          docLink.innerHTML = docLinkHtml;\n",
              "          element.appendChild(docLink);\n",
              "        }\n",
              "      </script>\n",
              "    </div>\n",
              "  </div>\n",
              "  "
            ]
          },
          "metadata": {},
          "execution_count": 7
        }
      ]
    },
    {
      "cell_type": "code",
      "source": [
        "y_train_sme_minmax_be = data_sme_minmax_be['level']"
      ],
      "metadata": {
        "id": "Plt05l97-4e4"
      },
      "execution_count": 8,
      "outputs": []
    },
    {
      "cell_type": "code",
      "source": [
        "RandomForest(x_train_sme_minmax_be, y_train_sme_minmax_be, x_test_minmax_be, y_test_minmax_be)"
      ],
      "metadata": {
        "id": "8b2fhdCi-7aZ",
        "colab": {
          "base_uri": "https://localhost:8080/"
        },
        "outputId": "3a573ed0-16cf-4a1f-d124-76871519f169"
      },
      "execution_count": 11,
      "outputs": [
        {
          "output_type": "stream",
          "name": "stderr",
          "text": [
            "/usr/local/lib/python3.8/dist-packages/joblib/externals/loky/process_executor.py:700: UserWarning: A worker stopped while some jobs were given to the executor. This can be caused by a too short worker timeout or by a memory leak.\n",
            "  warnings.warn(\n"
          ]
        },
        {
          "output_type": "stream",
          "name": "stdout",
          "text": [
            "Best parameters:  OrderedDict([('bootstrap', False), ('max_depth', 38), ('max_features', 'sqrt'), ('min_samples_leaf', 1), ('min_samples_split', 2), ('n_estimators', 100)])\n",
            "\n",
            "Evaluation data training: \n",
            "Macro-Averaged Recall:  1.0\n",
            "Macro-Averaged Precision:  1.0\n",
            "Macro-Averaged Precision:  1.0\n",
            "Accuracy:  1.0\n",
            "\n",
            "Evaluation data training: \n",
            "Macro-Averaged F1 Score:  0.6137636931087993\n",
            "Macro-Averaged Recall:  0.6252684644486283\n",
            "Macro-Averaged Precision:  0.6036733541663667\n",
            "Accuracy:  0.7826186027434717\n"
          ]
        }
      ]
    },
    {
      "cell_type": "code",
      "source": [
        "model_rf_sme_minmax = joblib.load('model_rf1.joblib')"
      ],
      "metadata": {
        "id": "Tb-mAa-rsaCu"
      },
      "execution_count": 12,
      "outputs": []
    },
    {
      "cell_type": "code",
      "source": [
        "joblib.dump(model_rf_sme_minmax, 'model_rf_sme_minmax.joblib')"
      ],
      "metadata": {
        "colab": {
          "base_uri": "https://localhost:8080/"
        },
        "id": "REvocTo3sc6_",
        "outputId": "653ae192-35d7-47f3-fac8-9b343862b6f8"
      },
      "execution_count": 13,
      "outputs": [
        {
          "output_type": "execute_result",
          "data": {
            "text/plain": [
              "['model_rf_sme_minmax.joblib']"
            ]
          },
          "metadata": {},
          "execution_count": 13
        }
      ]
    },
    {
      "cell_type": "markdown",
      "source": [
        "Data dengan StandardScaler"
      ],
      "metadata": {
        "id": "z9Zb8P0osy5i"
      }
    },
    {
      "cell_type": "code",
      "source": [
        "x_train_sme_standard_be = data_sme_standard_be.drop('level', axis=1)\n",
        "x_train_sme_standard_be.sample(6)"
      ],
      "metadata": {
        "id": "jR4wR-EZvc-m",
        "colab": {
          "base_uri": "https://localhost:8080/",
          "height": 331
        },
        "outputId": "14f92247-00d4-4f51-8313-824df56745e4"
      },
      "execution_count": 14,
      "outputs": [
        {
          "output_type": "execute_result",
          "data": {
            "text/plain": [
              "          precip     Libur  ROAD_CLOSED  day_Friday  day_Monday  day_Saturday  \\\n",
              "141494 -0.267025 -0.223265    14.951970    2.444868   -0.405794      -0.40954   \n",
              "151723 -0.261183 -0.223265    14.951970   -0.409020   -0.405794      -0.40954   \n",
              "163326 -0.148788 -0.223265    14.951970   -0.409020   -0.405794      -0.40954   \n",
              "37981   0.259280 -0.223265    -0.066881   -0.409020   -0.405794      -0.40954   \n",
              "102100 -0.205473 -0.223265    -0.066881    2.444868   -0.405794      -0.40954   \n",
              "116825  7.446791 -0.223265    -0.066881   -0.409020   -0.405794      -0.40954   \n",
              "\n",
              "        day_Sunday  day_Thursday  day_Tuesday  day_Wednesday  ...  street_1  \\\n",
              "141494   -0.409085     -0.407522    -0.408532      -0.408239  ... -0.890382   \n",
              "151723   -0.409085     -0.407522    -0.408532       2.449546  ... -0.890382   \n",
              "163326    2.444479     -0.407522    -0.408532      -0.408239  ... -0.890382   \n",
              "37981     2.444479     -0.407522    -0.408532      -0.408239  ... -0.890382   \n",
              "102100   -0.409085     -0.407522    -0.408532      -0.408239  ... -0.890382   \n",
              "116825   -0.409085     -0.407522     2.447789      -0.408239  ... -0.085491   \n",
              "\n",
              "        street_2  street_3  street_4  street_5  street_6  street_7  street_8  \\\n",
              "141494 -0.886265  1.105498  1.007528  1.004424 -0.993110  1.004149 -0.998166   \n",
              "151723 -0.886265 -0.904570 -0.992528  1.004424 -0.993110 -0.995868 -0.998166   \n",
              "163326 -0.886265 -0.904570  1.007528  1.004424  1.006938 -0.995868 -0.998166   \n",
              "37981  -0.886265 -0.904570 -0.992528  0.985495 -0.993110 -0.995868  1.001838   \n",
              "102100 -0.886265 -0.904570  1.007528  1.004424  1.006938  1.004149 -0.998166   \n",
              "116825  1.128331  1.105498 -0.992528 -0.995596  1.006938  1.004149  0.202340   \n",
              "\n",
              "        street_9  street_10  \n",
              "141494  0.996724  -1.003757  \n",
              "151723  0.996724  -1.003757  \n",
              "163326 -1.003287  -1.003757  \n",
              "37981   0.996724  -1.003757  \n",
              "102100  0.996724  -1.003757  \n",
              "116825  0.197223   0.996257  \n",
              "\n",
              "[6 rows x 21 columns]"
            ],
            "text/html": [
              "\n",
              "  <div id=\"df-ff219cfd-f209-4573-8af3-faa32ed3a42f\">\n",
              "    <div class=\"colab-df-container\">\n",
              "      <div>\n",
              "<style scoped>\n",
              "    .dataframe tbody tr th:only-of-type {\n",
              "        vertical-align: middle;\n",
              "    }\n",
              "\n",
              "    .dataframe tbody tr th {\n",
              "        vertical-align: top;\n",
              "    }\n",
              "\n",
              "    .dataframe thead th {\n",
              "        text-align: right;\n",
              "    }\n",
              "</style>\n",
              "<table border=\"1\" class=\"dataframe\">\n",
              "  <thead>\n",
              "    <tr style=\"text-align: right;\">\n",
              "      <th></th>\n",
              "      <th>precip</th>\n",
              "      <th>Libur</th>\n",
              "      <th>ROAD_CLOSED</th>\n",
              "      <th>day_Friday</th>\n",
              "      <th>day_Monday</th>\n",
              "      <th>day_Saturday</th>\n",
              "      <th>day_Sunday</th>\n",
              "      <th>day_Thursday</th>\n",
              "      <th>day_Tuesday</th>\n",
              "      <th>day_Wednesday</th>\n",
              "      <th>...</th>\n",
              "      <th>street_1</th>\n",
              "      <th>street_2</th>\n",
              "      <th>street_3</th>\n",
              "      <th>street_4</th>\n",
              "      <th>street_5</th>\n",
              "      <th>street_6</th>\n",
              "      <th>street_7</th>\n",
              "      <th>street_8</th>\n",
              "      <th>street_9</th>\n",
              "      <th>street_10</th>\n",
              "    </tr>\n",
              "  </thead>\n",
              "  <tbody>\n",
              "    <tr>\n",
              "      <th>141494</th>\n",
              "      <td>-0.267025</td>\n",
              "      <td>-0.223265</td>\n",
              "      <td>14.951970</td>\n",
              "      <td>2.444868</td>\n",
              "      <td>-0.405794</td>\n",
              "      <td>-0.40954</td>\n",
              "      <td>-0.409085</td>\n",
              "      <td>-0.407522</td>\n",
              "      <td>-0.408532</td>\n",
              "      <td>-0.408239</td>\n",
              "      <td>...</td>\n",
              "      <td>-0.890382</td>\n",
              "      <td>-0.886265</td>\n",
              "      <td>1.105498</td>\n",
              "      <td>1.007528</td>\n",
              "      <td>1.004424</td>\n",
              "      <td>-0.993110</td>\n",
              "      <td>1.004149</td>\n",
              "      <td>-0.998166</td>\n",
              "      <td>0.996724</td>\n",
              "      <td>-1.003757</td>\n",
              "    </tr>\n",
              "    <tr>\n",
              "      <th>151723</th>\n",
              "      <td>-0.261183</td>\n",
              "      <td>-0.223265</td>\n",
              "      <td>14.951970</td>\n",
              "      <td>-0.409020</td>\n",
              "      <td>-0.405794</td>\n",
              "      <td>-0.40954</td>\n",
              "      <td>-0.409085</td>\n",
              "      <td>-0.407522</td>\n",
              "      <td>-0.408532</td>\n",
              "      <td>2.449546</td>\n",
              "      <td>...</td>\n",
              "      <td>-0.890382</td>\n",
              "      <td>-0.886265</td>\n",
              "      <td>-0.904570</td>\n",
              "      <td>-0.992528</td>\n",
              "      <td>1.004424</td>\n",
              "      <td>-0.993110</td>\n",
              "      <td>-0.995868</td>\n",
              "      <td>-0.998166</td>\n",
              "      <td>0.996724</td>\n",
              "      <td>-1.003757</td>\n",
              "    </tr>\n",
              "    <tr>\n",
              "      <th>163326</th>\n",
              "      <td>-0.148788</td>\n",
              "      <td>-0.223265</td>\n",
              "      <td>14.951970</td>\n",
              "      <td>-0.409020</td>\n",
              "      <td>-0.405794</td>\n",
              "      <td>-0.40954</td>\n",
              "      <td>2.444479</td>\n",
              "      <td>-0.407522</td>\n",
              "      <td>-0.408532</td>\n",
              "      <td>-0.408239</td>\n",
              "      <td>...</td>\n",
              "      <td>-0.890382</td>\n",
              "      <td>-0.886265</td>\n",
              "      <td>-0.904570</td>\n",
              "      <td>1.007528</td>\n",
              "      <td>1.004424</td>\n",
              "      <td>1.006938</td>\n",
              "      <td>-0.995868</td>\n",
              "      <td>-0.998166</td>\n",
              "      <td>-1.003287</td>\n",
              "      <td>-1.003757</td>\n",
              "    </tr>\n",
              "    <tr>\n",
              "      <th>37981</th>\n",
              "      <td>0.259280</td>\n",
              "      <td>-0.223265</td>\n",
              "      <td>-0.066881</td>\n",
              "      <td>-0.409020</td>\n",
              "      <td>-0.405794</td>\n",
              "      <td>-0.40954</td>\n",
              "      <td>2.444479</td>\n",
              "      <td>-0.407522</td>\n",
              "      <td>-0.408532</td>\n",
              "      <td>-0.408239</td>\n",
              "      <td>...</td>\n",
              "      <td>-0.890382</td>\n",
              "      <td>-0.886265</td>\n",
              "      <td>-0.904570</td>\n",
              "      <td>-0.992528</td>\n",
              "      <td>0.985495</td>\n",
              "      <td>-0.993110</td>\n",
              "      <td>-0.995868</td>\n",
              "      <td>1.001838</td>\n",
              "      <td>0.996724</td>\n",
              "      <td>-1.003757</td>\n",
              "    </tr>\n",
              "    <tr>\n",
              "      <th>102100</th>\n",
              "      <td>-0.205473</td>\n",
              "      <td>-0.223265</td>\n",
              "      <td>-0.066881</td>\n",
              "      <td>2.444868</td>\n",
              "      <td>-0.405794</td>\n",
              "      <td>-0.40954</td>\n",
              "      <td>-0.409085</td>\n",
              "      <td>-0.407522</td>\n",
              "      <td>-0.408532</td>\n",
              "      <td>-0.408239</td>\n",
              "      <td>...</td>\n",
              "      <td>-0.890382</td>\n",
              "      <td>-0.886265</td>\n",
              "      <td>-0.904570</td>\n",
              "      <td>1.007528</td>\n",
              "      <td>1.004424</td>\n",
              "      <td>1.006938</td>\n",
              "      <td>1.004149</td>\n",
              "      <td>-0.998166</td>\n",
              "      <td>0.996724</td>\n",
              "      <td>-1.003757</td>\n",
              "    </tr>\n",
              "    <tr>\n",
              "      <th>116825</th>\n",
              "      <td>7.446791</td>\n",
              "      <td>-0.223265</td>\n",
              "      <td>-0.066881</td>\n",
              "      <td>-0.409020</td>\n",
              "      <td>-0.405794</td>\n",
              "      <td>-0.40954</td>\n",
              "      <td>-0.409085</td>\n",
              "      <td>-0.407522</td>\n",
              "      <td>2.447789</td>\n",
              "      <td>-0.408239</td>\n",
              "      <td>...</td>\n",
              "      <td>-0.085491</td>\n",
              "      <td>1.128331</td>\n",
              "      <td>1.105498</td>\n",
              "      <td>-0.992528</td>\n",
              "      <td>-0.995596</td>\n",
              "      <td>1.006938</td>\n",
              "      <td>1.004149</td>\n",
              "      <td>0.202340</td>\n",
              "      <td>0.197223</td>\n",
              "      <td>0.996257</td>\n",
              "    </tr>\n",
              "  </tbody>\n",
              "</table>\n",
              "<p>6 rows × 21 columns</p>\n",
              "</div>\n",
              "      <button class=\"colab-df-convert\" onclick=\"convertToInteractive('df-ff219cfd-f209-4573-8af3-faa32ed3a42f')\"\n",
              "              title=\"Convert this dataframe to an interactive table.\"\n",
              "              style=\"display:none;\">\n",
              "        \n",
              "  <svg xmlns=\"http://www.w3.org/2000/svg\" height=\"24px\"viewBox=\"0 0 24 24\"\n",
              "       width=\"24px\">\n",
              "    <path d=\"M0 0h24v24H0V0z\" fill=\"none\"/>\n",
              "    <path d=\"M18.56 5.44l.94 2.06.94-2.06 2.06-.94-2.06-.94-.94-2.06-.94 2.06-2.06.94zm-11 1L8.5 8.5l.94-2.06 2.06-.94-2.06-.94L8.5 2.5l-.94 2.06-2.06.94zm10 10l.94 2.06.94-2.06 2.06-.94-2.06-.94-.94-2.06-.94 2.06-2.06.94z\"/><path d=\"M17.41 7.96l-1.37-1.37c-.4-.4-.92-.59-1.43-.59-.52 0-1.04.2-1.43.59L10.3 9.45l-7.72 7.72c-.78.78-.78 2.05 0 2.83L4 21.41c.39.39.9.59 1.41.59.51 0 1.02-.2 1.41-.59l7.78-7.78 2.81-2.81c.8-.78.8-2.07 0-2.86zM5.41 20L4 18.59l7.72-7.72 1.47 1.35L5.41 20z\"/>\n",
              "  </svg>\n",
              "      </button>\n",
              "      \n",
              "  <style>\n",
              "    .colab-df-container {\n",
              "      display:flex;\n",
              "      flex-wrap:wrap;\n",
              "      gap: 12px;\n",
              "    }\n",
              "\n",
              "    .colab-df-convert {\n",
              "      background-color: #E8F0FE;\n",
              "      border: none;\n",
              "      border-radius: 50%;\n",
              "      cursor: pointer;\n",
              "      display: none;\n",
              "      fill: #1967D2;\n",
              "      height: 32px;\n",
              "      padding: 0 0 0 0;\n",
              "      width: 32px;\n",
              "    }\n",
              "\n",
              "    .colab-df-convert:hover {\n",
              "      background-color: #E2EBFA;\n",
              "      box-shadow: 0px 1px 2px rgba(60, 64, 67, 0.3), 0px 1px 3px 1px rgba(60, 64, 67, 0.15);\n",
              "      fill: #174EA6;\n",
              "    }\n",
              "\n",
              "    [theme=dark] .colab-df-convert {\n",
              "      background-color: #3B4455;\n",
              "      fill: #D2E3FC;\n",
              "    }\n",
              "\n",
              "    [theme=dark] .colab-df-convert:hover {\n",
              "      background-color: #434B5C;\n",
              "      box-shadow: 0px 1px 3px 1px rgba(0, 0, 0, 0.15);\n",
              "      filter: drop-shadow(0px 1px 2px rgba(0, 0, 0, 0.3));\n",
              "      fill: #FFFFFF;\n",
              "    }\n",
              "  </style>\n",
              "\n",
              "      <script>\n",
              "        const buttonEl =\n",
              "          document.querySelector('#df-ff219cfd-f209-4573-8af3-faa32ed3a42f button.colab-df-convert');\n",
              "        buttonEl.style.display =\n",
              "          google.colab.kernel.accessAllowed ? 'block' : 'none';\n",
              "\n",
              "        async function convertToInteractive(key) {\n",
              "          const element = document.querySelector('#df-ff219cfd-f209-4573-8af3-faa32ed3a42f');\n",
              "          const dataTable =\n",
              "            await google.colab.kernel.invokeFunction('convertToInteractive',\n",
              "                                                     [key], {});\n",
              "          if (!dataTable) return;\n",
              "\n",
              "          const docLinkHtml = 'Like what you see? Visit the ' +\n",
              "            '<a target=\"_blank\" href=https://colab.research.google.com/notebooks/data_table.ipynb>data table notebook</a>'\n",
              "            + ' to learn more about interactive tables.';\n",
              "          element.innerHTML = '';\n",
              "          dataTable['output_type'] = 'display_data';\n",
              "          await google.colab.output.renderOutput(dataTable, element);\n",
              "          const docLink = document.createElement('div');\n",
              "          docLink.innerHTML = docLinkHtml;\n",
              "          element.appendChild(docLink);\n",
              "        }\n",
              "      </script>\n",
              "    </div>\n",
              "  </div>\n",
              "  "
            ]
          },
          "metadata": {},
          "execution_count": 14
        }
      ]
    },
    {
      "cell_type": "code",
      "source": [
        "y_train_sme_standard_be = data_sme_standard_be['level']"
      ],
      "metadata": {
        "id": "g-B2oLqsve-C"
      },
      "execution_count": 15,
      "outputs": []
    },
    {
      "cell_type": "code",
      "source": [
        "RandomForest(x_train_sme_standard_be, y_train_sme_standard_be, x_test_standard_be, y_test_standard_be)"
      ],
      "metadata": {
        "id": "MqASha1Wvgrq",
        "colab": {
          "base_uri": "https://localhost:8080/"
        },
        "outputId": "2c2baddb-e0d2-45b9-8e2a-547bb1367243"
      },
      "execution_count": 16,
      "outputs": [
        {
          "output_type": "stream",
          "name": "stderr",
          "text": [
            "/usr/local/lib/python3.8/dist-packages/joblib/externals/loky/process_executor.py:700: UserWarning: A worker stopped while some jobs were given to the executor. This can be caused by a too short worker timeout or by a memory leak.\n",
            "  warnings.warn(\n",
            "/usr/local/lib/python3.8/dist-packages/joblib/externals/loky/process_executor.py:700: UserWarning: A worker stopped while some jobs were given to the executor. This can be caused by a too short worker timeout or by a memory leak.\n",
            "  warnings.warn(\n"
          ]
        },
        {
          "output_type": "stream",
          "name": "stdout",
          "text": [
            "Best parameters:  OrderedDict([('bootstrap', False), ('max_depth', 110), ('max_features', 'sqrt'), ('min_samples_leaf', 1), ('min_samples_split', 2), ('n_estimators', 100)])\n",
            "\n",
            "Evaluation data training: \n",
            "Macro-Averaged Recall:  1.0\n",
            "Macro-Averaged Precision:  1.0\n",
            "Macro-Averaged Precision:  1.0\n",
            "Accuracy:  1.0\n",
            "\n",
            "Evaluation data training: \n",
            "Macro-Averaged F1 Score:  0.6174431632924514\n",
            "Macro-Averaged Recall:  0.6286376635888155\n",
            "Macro-Averaged Precision:  0.6077538096816845\n",
            "Accuracy:  0.783074328943171\n"
          ]
        }
      ]
    },
    {
      "cell_type": "code",
      "source": [
        "model_rf_sme_standard = joblib.load('model_rf1.joblib')"
      ],
      "metadata": {
        "id": "SmtIruv8siso"
      },
      "execution_count": 17,
      "outputs": []
    },
    {
      "cell_type": "code",
      "source": [
        "joblib.dump(model_rf_sme_standard, 'model_rf_sme_standard.joblib')"
      ],
      "metadata": {
        "colab": {
          "base_uri": "https://localhost:8080/"
        },
        "id": "kyO2wkOmsmZW",
        "outputId": "73a856e7-4fd6-40f9-ff8f-b0cfd936edf1"
      },
      "execution_count": 18,
      "outputs": [
        {
          "output_type": "execute_result",
          "data": {
            "text/plain": [
              "['model_rf_sme_standard.joblib']"
            ]
          },
          "metadata": {},
          "execution_count": 18
        }
      ]
    }
  ],
  "metadata": {
    "colab": {
      "provenance": []
    },
    "gpuClass": "standard",
    "kernelspec": {
      "display_name": "mpDS",
      "language": "python",
      "name": "python3"
    },
    "language_info": {
      "codemirror_mode": {
        "name": "ipython",
        "version": 3
      },
      "file_extension": ".py",
      "mimetype": "text/x-python",
      "name": "python",
      "nbconvert_exporter": "python",
      "pygments_lexer": "ipython3",
      "version": "3.10.5"
    },
    "vscode": {
      "interpreter": {
        "hash": "901b71c0bd909c8855e4c8d990dc6c29c60398096b09851dcef775b57b94315a"
      }
    }
  },
  "nbformat": 4,
  "nbformat_minor": 0
}